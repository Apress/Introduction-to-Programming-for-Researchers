{
 "cells": [
  {
   "cell_type": "code",
   "execution_count": 28,
   "id": "b2c17035-b106-4e96-b7c0-2f99025a830c",
   "metadata": {},
   "outputs": [],
   "source": [
    "from sys import float_info\n",
    "from mpmath import mp, fac"
   ]
  },
  {
   "cell_type": "code",
   "execution_count": 29,
   "id": "3f977fed-8c0d-44e7-a122-b92528952e2e",
   "metadata": {},
   "outputs": [
    {
     "data": {
      "text/plain": [
       "sys.float_info(max=1.7976931348623157e+308, max_exp=1024, max_10_exp=308, min=2.2250738585072014e-308, min_exp=-1021, min_10_exp=-307, dig=15, mant_dig=53, epsilon=2.220446049250313e-16, radix=2, rounds=1)"
      ]
     },
     "execution_count": 29,
     "metadata": {},
     "output_type": "execute_result"
    }
   ],
   "source": [
    "# note mant_dig (bit length) & dig (mantissa length in decimal-digits)\n",
    "float_info"
   ]
  },
  {
   "cell_type": "code",
   "execution_count": 30,
   "id": "0ded9d1b-d7a5-429e-b638-433dc9d22998",
   "metadata": {},
   "outputs": [
    {
     "data": {
      "text/plain": [
       "171122452428141311372468338881272839092270544893520369393648040923257279754140647424000000000000000"
      ]
     },
     "execution_count": 30,
     "metadata": {},
     "output_type": "execute_result"
    }
   ],
   "source": [
    "# normally, users adjust precision by dps\n",
    "mp.dps = 78\n",
    "int(fac(69))"
   ]
  },
  {
   "cell_type": "code",
   "execution_count": 31,
   "id": "dab9dad8-6489-4dfd-af2c-5acd59c77132",
   "metadata": {},
   "outputs": [
    {
     "name": "stdout",
     "output_type": "stream",
     "text": [
      "Mpmath settings:\n",
      "  mp.prec = 262               [default: 53]\n",
      "  mp.dps = 78                 [default: 15]\n",
      "  mp.trap_complex = False     [default: False]\n"
     ]
    }
   ],
   "source": [
    "# note prec (bit length) & dps (mantissa length in decimal-digits)\n",
    "print(mp)"
   ]
  }
 ],
 "metadata": {
  "kernelspec": {
   "display_name": "Python 3 (ipykernel)",
   "language": "python",
   "name": "python3"
  },
  "language_info": {
   "codemirror_mode": {
    "name": "ipython",
    "version": 3
   },
   "file_extension": ".py",
   "mimetype": "text/x-python",
   "name": "python",
   "nbconvert_exporter": "python",
   "pygments_lexer": "ipython3",
   "version": "3.12.5"
  }
 },
 "nbformat": 4,
 "nbformat_minor": 5
}
